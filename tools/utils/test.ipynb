{
 "cells": [
  {
   "cell_type": "code",
   "execution_count": 5,
   "metadata": {},
   "outputs": [
    {
     "data": {
      "text/plain": [
       "[['يا من إليهي أشتكي من هجرهي', '101011010101101010110']]"
      ]
     },
     "execution_count": 5,
     "metadata": {},
     "output_type": "execute_result"
    }
   ],
   "source": [
    "from prosody import get_arudi_style\n",
    "baits = \"يَا مَنْ إِلَيْهِ أَشْتَكِي مِنْ هَجْرِهِ\"\n",
    "\n",
    "get_arudi_style(baits)"
   ]
  },
  {
   "cell_type": "code",
   "execution_count": 1,
   "metadata": {},
   "outputs": [
    {
     "name": "stdout",
     "output_type": "stream",
     "text": [
      "/home/khaled/workspace/projects\n",
      "/home/khaled/anaconda3/envs/agentic_env/lib/python312.zip\n",
      "/home/khaled/anaconda3/envs/agentic_env/lib/python3.12\n",
      "/home/khaled/anaconda3/envs/agentic_env/lib/python3.12/lib-dynload\n",
      "\n",
      "/home/khaled/anaconda3/envs/agentic_env/lib/python3.12/site-packages\n",
      "/home/khaled/workspace/projects/allam/tools/utils/Ashaar\n"
     ]
    }
   ],
   "source": [
    "import sys\n",
    "sys.path.append(\"/home/khaled/workspace/projects/allam/tools/utils/Ashaar\")\n",
    "for p in sys.path:\n",
    "    print(p)"
   ]
  },
  {
   "cell_type": "code",
   "execution_count": 2,
   "metadata": {},
   "outputs": [
    {
     "name": "stderr",
     "output_type": "stream",
     "text": [
      "2024-10-15 14:18:59.738707: I tensorflow/core/platform/cpu_feature_guard.cc:210] This TensorFlow binary is optimized to use available CPU instructions in performance-critical operations.\n",
      "To enable the following instructions: SSE4.1 SSE4.2 AVX AVX2 FMA, in other operations, rebuild TensorFlow with the appropriate compiler flags.\n"
     ]
    }
   ],
   "source": [
    "from poetry_diacritizer.predict import DiacritizationTester"
   ]
  },
  {
   "cell_type": "code",
   "execution_count": 3,
   "metadata": {},
   "outputs": [
    {
     "name": "stdout",
     "output_type": "stream",
     "text": [
      "WARNING: could not check git hash. 'git_hash'\n",
      "loading from /home/khaled/workspace/projects/allam/tools/utils/deep-learning-models/log_dir_ashaar/ashaar_proc.base.cbhg/models/10000-snapshot.pt\n"
     ]
    },
    {
     "name": "stderr",
     "output_type": "stream",
     "text": [
      "/home/khaled/workspace/projects/allam/tools/utils/Ashaar/poetry_diacritizer/predict.py:85: FutureWarning: You are using `torch.load` with `weights_only=False` (the current default value), which uses the default pickle module implicitly. It is possible to construct malicious pickle data which will execute arbitrary code during unpickling (See https://github.com/pytorch/pytorch/blob/main/SECURITY.md#untrusted-models for more details). In a future release, the default value for `weights_only` will be flipped to `True`. This limits the functions that could be executed during unpickling. Arbitrary objects will no longer be allowed to be loaded via this mode unless they are explicitly allowlisted by the user via `torch.serialization.add_safe_globals`. We recommend you start setting `weights_only=True` for any use case where you don't have full control of the loaded file. Please open an issue on GitHub for any issues related to this experimental feature.\n",
      "  saved_model = torch.load(last_model_path, map_location=self.device)\n"
     ]
    }
   ],
   "source": [
    "tester = DiacritizationTester('/home/khaled/workspace/projects/allam/tools/utils/Ashaar/Ashaar/config/test.yml', model_kind='cbhg', \n",
    "                              model_path='/home/khaled/workspace/projects/allam/tools/utils/deep-learning-models/log_dir_ashaar/ashaar_proc.base.cbhg/models/10000-snapshot.pt')"
   ]
  },
  {
   "cell_type": "code",
   "execution_count": 4,
   "metadata": {},
   "outputs": [
    {
     "data": {
      "text/plain": [
       "'لَا تَعْذِلُ الْمُشْتَاقَ فِي أَشْوَاقِهِ حَتَّى يَكُونَ حَشَاكَ فِي أَحْشَائِهِ'"
      ]
     },
     "execution_count": 4,
     "metadata": {},
     "output_type": "execute_result"
    }
   ],
   "source": [
    "tester.infer(\"لا تعذل المشتاق في أشواقه حتى يكون حشاك في أحشائه\")"
   ]
  },
  {
   "cell_type": "code",
   "execution_count": 4,
   "metadata": {},
   "outputs": [
    {
     "name": "stderr",
     "output_type": "stream",
     "text": [
      "/home/khaled/anaconda3/envs/agentic_env/lib/python3.12/site-packages/sentence_transformers/cross_encoder/CrossEncoder.py:13: TqdmWarning: IProgress not found. Please update jupyter and ipywidgets. See https://ipywidgets.readthedocs.io/en/stable/user_install.html\n",
      "  from tqdm.autonotebook import tqdm, trange\n"
     ]
    }
   ],
   "source": [
    "from Ashaar.models import create_transformer_model, create_model_v1, create_era_theme_model\n"
   ]
  },
  {
   "cell_type": "code",
   "execution_count": 5,
   "metadata": {},
   "outputs": [],
   "source": [
    "import tensorflow as tf\n",
    "from tensorflow.keras.models import load_model\n",
    "\n",
    "# Step 1: Create the model\n",
    "model = create_transformer_model()\n",
    "\n",
    "# Step 2: Load weights from the .ckpt file\n",
    "checkpoint_path = \"deep-learning-models/meters_model/cp.ckpt\"\n",
    "checkpoint = tf.train.Checkpoint(model=model)\n",
    "checkpoint.restore(checkpoint_path)\n",
    "\n",
    "# Step 3: Save the model in a Keras format\n",
    "model.save(\"deep-learning-models/meters_model/cp.keras\")\n"
   ]
  },
  {
   "cell_type": "code",
   "execution_count": 11,
   "metadata": {},
   "outputs": [
    {
     "name": "stderr",
     "output_type": "stream",
     "text": [
      "/home/khaled/anaconda3/envs/agentic_env/lib/python3.12/site-packages/keras/src/layers/layer.py:391: UserWarning: `build()` was called on layer 'token_and_position_embedding_4', however the layer does not have a `build()` method implemented and it looks like it has unbuilt state. This will cause the layer to be marked as built, despite not being actually built, which may cause failures down the line. Make sure to implement a proper `build()` method.\n",
      "  warnings.warn(\n",
      "/home/khaled/anaconda3/envs/agentic_env/lib/python3.12/site-packages/keras/src/layers/layer.py:391: UserWarning: `build()` was called on layer 'transformer_block_4', however the layer does not have a `build()` method implemented and it looks like it has unbuilt state. This will cause the layer to be marked as built, despite not being actually built, which may cause failures down the line. Make sure to implement a proper `build()` method.\n",
      "  warnings.warn(\n"
     ]
    }
   ],
   "source": [
    "from tensorflow.keras.models import load_model\n",
    "\n",
    "model = create_transformer_model()\n",
    "model = load_model(\"deep-learning-models/meters_model/cp.keras\")\n"
   ]
  },
  {
   "cell_type": "code",
   "execution_count": 6,
   "metadata": {},
   "outputs": [],
   "source": [
    "verses = [\"اذا ما مَشَت نادى بما في ثِيابها # ذكِيُّ الشذا والمَندَليّ المطَيَّرُ\"]\n",
    "\n",
    "vocab = list(\"إةابتثجحخدذرزسشصضطظعغفقكلمنهويىأءئؤ#آ \")\n",
    "vocab += list(\"ًٌٍَُِّ\") + [\"ْ\"] + [\"ٓ\"]\n",
    "BOHOUR_NAMES_AR = [\n",
    "    \"السريع\",\n",
    "    \"الكامل\",\n",
    "    \"المتقارب\",\n",
    "    \"المتدارك\",\n",
    "    \"المنسرح\",\n",
    "    \"المديد\",\n",
    "    \"المجتث\",\n",
    "    \"الرمل\",\n",
    "    \"البسيط\",\n",
    "    \"الخفيف\",\n",
    "    \"الطويل\",\n",
    "    \"الوافر\",\n",
    "    \"الهزج\",\n",
    "    \"الرجز\",\n",
    "    \"المضارع\",\n",
    "    \"المقتضب\",\n",
    "    \"نثر\",\n",
    "]\n",
    "\n",
    "char2idx = {u: i + 1 for i, u in enumerate(vocab)}\n",
    "\n",
    "label2name = BOHOUR_NAMES_AR"
   ]
  },
  {
   "cell_type": "code",
   "execution_count": 7,
   "metadata": {},
   "outputs": [
    {
     "name": "stdout",
     "output_type": "stream",
     "text": [
      "after cleaning\n",
      "اذا ما مَشَت نادى بما في ثِيابها\n",
      "after diac\n",
      "اَذَا مَا مَشَتْ نَادَى بِمَا فِي ثِيَابِهَا\n",
      "after cleaning again\n",
      "اَذَا مَا مَشَتْ نَادَى بِمَا فِي ثِيَابِهَا\n",
      "after overriding\n",
      "اَذَا مَا مَشَتْ نَادَى بِمَا فِي ثِيَابِهَا\n",
      "after cleaning\n",
      "ذكِيّ الشذا والمَندَليّ المطَيّرُ\n",
      "after diac\n",
      "ذَكِيَ الشَّذَا وَالْمَنْدَلِيُّ المَطِيْرُ\n",
      "after cleaning again\n",
      "ذَكِيَ الشَّذَا وَالْمَنْدَلِيُّ المَطِيْرُ\n",
      "after overriding\n",
      "ذَكِيّ الشَّذَا وَالْمَنْدَلِيّ المَطَيّرُ\n"
     ]
    }
   ],
   "source": [
    "from Ashaar.utils import override_auto_tashkeel\n",
    "\n",
    "diacritized_baits = []\n",
    "diacritized_shatrs = []\n",
    "\n",
    "for i, bait in enumerate(verses):\n",
    "    diacritized_bait = []\n",
    "    for shatr in bait.split(\"#\"):\n",
    "        proc_shatr = tester.text_encoder.clean(shatr).strip()\n",
    "        if len(proc_shatr) > 0:\n",
    "            print('after cleaning')\n",
    "            print(proc_shatr)\n",
    "            diacritized_shatr = tester.infer(proc_shatr)\n",
    "            print('after diac')\n",
    "            print(diacritized_shatr)\n",
    "            diacritized_shatr = tester.text_encoder.clean(\n",
    "                diacritized_shatr\n",
    "            ).strip()\n",
    "            print('after cleaning again')\n",
    "            print(diacritized_shatr)\n",
    "            try:\n",
    "                overridden_diacritized_shatr = override_auto_tashkeel(\n",
    "                    diacritized_shatr,\n",
    "                    proc_shatr,\n",
    "                )\n",
    "                diacritized_shatr = overridden_diacritized_shatr\n",
    "            except:\n",
    "                print(\n",
    "                    \"Error in override_auto_baits_tashkeel, rolling back to auto diacritization\"\n",
    "                )\n",
    "            print('after overriding')\n",
    "            print(diacritized_shatr)\n",
    "            diacritized_bait.append(diacritized_shatr)  \n",
    "    # ignore empty baits\n",
    "    if len(diacritized_bait) == 2:\n",
    "        diacritized_shatrs += diacritized_bait\n",
    "        diacritized_baits.append(\" # \".join(diacritized_bait))"
   ]
  },
  {
   "cell_type": "code",
   "execution_count": 8,
   "metadata": {},
   "outputs": [
    {
     "data": {
      "text/plain": [
       "(['اَذَا مَا مَشَتْ نَادَى بِمَا فِي ثِيَابِهَا',\n",
       "  'ذَكِيّ الشَّذَا وَالْمَنْدَلِيّ المَطَيّرُ'],\n",
       " ['اَذَا مَا مَشَتْ نَادَى بِمَا فِي ثِيَابِهَا # ذَكِيّ الشَّذَا وَالْمَنْدَلِيّ المَطَيّرُ'])"
      ]
     },
     "execution_count": 8,
     "metadata": {},
     "output_type": "execute_result"
    }
   ],
   "source": [
    "diacritized_shatrs, diacritized_baits"
   ]
  },
  {
   "cell_type": "code",
   "execution_count": null,
   "metadata": {},
   "outputs": [],
   "source": []
  },
  {
   "cell_type": "code",
   "execution_count": 20,
   "metadata": {},
   "outputs": [
    {
     "name": "stdout",
     "output_type": "stream",
     "text": [
      "processed [[3, 39, 11, 39, 3, 38, 26, 39, 3, 38, 26, 39, 15, 39, 5, 46, 38, 27, 39, 3, 10, 39, 31, 38, 4, 43, 26, 39, 3, 38, 22, 43, 30, 38, 6, 43, 30, 39, 3, 4, 43, 28, 39, 3, 38, 36, 38, 11, 39, 24, 43, 30, 45, 38, 3, 25, 15, 45, 39, 11, 39, 3, 38, 29, 39, 3, 25, 46, 26, 39, 27, 46, 10, 39, 25, 43, 30, 45, 38, 3, 25, 26, 39, 18, 39, 30, 45, 12, 41]]\n",
      "processed [[ 3 39 11 39  3 38 26 39  3 38 26 39 15 39  5 46 38 27 39  3 10 39 31 38\n",
      "   4 43 26 39  3 38 22 43 30 38  6 43 30 39  3  4 43 28 39  3 38 36 38 11\n",
      "  39 24 43 30 45 38  3 25 15 45 39 11 39  3 38 29 39  3 25 46 26 39 27 46\n",
      "  10 39 25 43 30 45 38  3 25 26 39 18 39 30 45 12 41  0  0  0  0  0  0  0\n",
      "   0  0  0  0  0  0  0  0  0  0  0  0  0  0  0  0  0  0  0  0  0  0  0  0\n",
      "   0  0  0  0  0  0  0  0]]\n",
      "\u001b[1m1/1\u001b[0m \u001b[32m━━━━━━━━━━━━━━━━━━━━\u001b[0m\u001b[37m\u001b[0m \u001b[1m0s\u001b[0m 55ms/step\n"
     ]
    },
    {
     "data": {
      "text/plain": [
       "(array([3]), 'المتدارك')"
      ]
     },
     "execution_count": 20,
     "metadata": {},
     "output_type": "execute_result"
    }
   ],
   "source": [
    "from tensorflow.keras.preprocessing.sequence import pad_sequences\n",
    "from collections import Counter\n",
    "\n",
    "\n",
    "def majority_vote(a):\n",
    "        return Counter(a).most_common()[0][0]\n",
    "\n",
    "\n",
    "def preprocess(text):\n",
    "    out = \"\"\n",
    "    for l in text:\n",
    "        if l in vocab:\n",
    "            out += l\n",
    "    return out\n",
    "\n",
    "processed_verse = [[char2idx[char] for char in preprocess(v)] for v in diacritized_baits]\n",
    "print(\"processed\", processed_verse)\n",
    "\n",
    "processed_verse = pad_sequences(\n",
    "    processed_verse,\n",
    "    padding=\"post\",\n",
    "    value=0,\n",
    "    maxlen=128,\n",
    ")\n",
    "print(\"processed\", processed_verse)\n",
    "\n",
    "labels = model.predict(processed_verse).argmax(-1)\n",
    "labels, majority_vote([label2name[label] for label in labels])"
   ]
  }
 ],
 "metadata": {
  "kernelspec": {
   "display_name": "agentic_env",
   "language": "python",
   "name": "python3"
  },
  "language_info": {
   "codemirror_mode": {
    "name": "ipython",
    "version": 3
   },
   "file_extension": ".py",
   "mimetype": "text/x-python",
   "name": "python",
   "nbconvert_exporter": "python",
   "pygments_lexer": "ipython3",
   "version": "3.12.2"
  }
 },
 "nbformat": 4,
 "nbformat_minor": 2
}
